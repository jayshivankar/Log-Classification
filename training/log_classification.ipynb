{
 "cells": [
  {
   "cell_type": "code",
   "execution_count": null,
   "id": "ae6a42a8-ec1d-4252-9199-8372b159841c",
   "metadata": {},
   "outputs": [],
   "source": []
  }
 ],
 "metadata": {
  "kernelspec": {
   "display_name": "",
   "name": ""
  },
  "language_info": {
   "name": ""
  }
 },
 "nbformat": 4,
 "nbformat_minor": 5
}
