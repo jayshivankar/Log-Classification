{
 "cells": [
  {
   "cell_type": "code",
   "execution_count": 19,
   "id": "ae6a42a8-ec1d-4252-9199-8372b159841c",
   "metadata": {},
   "outputs": [],
   "source": [
    "import pandas as pd"
   ]
  },
  {
   "cell_type": "code",
   "execution_count": 20,
   "id": "98f9745e-b871-4e27-b1e0-574e4e51a178",
   "metadata": {},
   "outputs": [],
   "source": [
    "df = pd.read_csv(\"dataset/synthetic_logs.csv\")"
   ]
  },
  {
   "cell_type": "code",
   "execution_count": 21,
   "id": "5caf0e40-f183-4978-8a36-ac917cd026f0",
   "metadata": {},
   "outputs": [
    {
     "data": {
      "text/html": [
       "<div>\n",
       "<style scoped>\n",
       "    .dataframe tbody tr th:only-of-type {\n",
       "        vertical-align: middle;\n",
       "    }\n",
       "\n",
       "    .dataframe tbody tr th {\n",
       "        vertical-align: top;\n",
       "    }\n",
       "\n",
       "    .dataframe thead th {\n",
       "        text-align: right;\n",
       "    }\n",
       "</style>\n",
       "<table border=\"1\" class=\"dataframe\">\n",
       "  <thead>\n",
       "    <tr style=\"text-align: right;\">\n",
       "      <th></th>\n",
       "      <th>timestamp</th>\n",
       "      <th>source</th>\n",
       "      <th>log_message</th>\n",
       "      <th>target_label</th>\n",
       "      <th>complexity</th>\n",
       "    </tr>\n",
       "  </thead>\n",
       "  <tbody>\n",
       "    <tr>\n",
       "      <th>0</th>\n",
       "      <td>2025-06-27 07:20:25</td>\n",
       "      <td>ModernCRM</td>\n",
       "      <td>nova.osapi_compute.wsgi.server [req-b9718cd8-f...</td>\n",
       "      <td>HTTP Status</td>\n",
       "      <td>bert</td>\n",
       "    </tr>\n",
       "    <tr>\n",
       "      <th>1</th>\n",
       "      <td>1/14/2025 23:07</td>\n",
       "      <td>ModernCRM</td>\n",
       "      <td>Email service experiencing issues with sending</td>\n",
       "      <td>Critical Error</td>\n",
       "      <td>bert</td>\n",
       "    </tr>\n",
       "    <tr>\n",
       "      <th>2</th>\n",
       "      <td>1/17/2025 1:29</td>\n",
       "      <td>AnalyticsEngine</td>\n",
       "      <td>Unauthorized access to data was attempted</td>\n",
       "      <td>Security Alert</td>\n",
       "      <td>bert</td>\n",
       "    </tr>\n",
       "    <tr>\n",
       "      <th>3</th>\n",
       "      <td>2025-07-12 00:24:16</td>\n",
       "      <td>ModernHR</td>\n",
       "      <td>nova.osapi_compute.wsgi.server [req-4895c258-b...</td>\n",
       "      <td>HTTP Status</td>\n",
       "      <td>bert</td>\n",
       "    </tr>\n",
       "    <tr>\n",
       "      <th>4</th>\n",
       "      <td>2025-06-02 18:25:23</td>\n",
       "      <td>BillingSystem</td>\n",
       "      <td>nova.osapi_compute.wsgi.server [req-ee8bc8ba-9...</td>\n",
       "      <td>HTTP Status</td>\n",
       "      <td>bert</td>\n",
       "    </tr>\n",
       "  </tbody>\n",
       "</table>\n",
       "</div>"
      ],
      "text/plain": [
       "             timestamp           source  \\\n",
       "0  2025-06-27 07:20:25        ModernCRM   \n",
       "1      1/14/2025 23:07        ModernCRM   \n",
       "2       1/17/2025 1:29  AnalyticsEngine   \n",
       "3  2025-07-12 00:24:16         ModernHR   \n",
       "4  2025-06-02 18:25:23    BillingSystem   \n",
       "\n",
       "                                         log_message    target_label  \\\n",
       "0  nova.osapi_compute.wsgi.server [req-b9718cd8-f...     HTTP Status   \n",
       "1     Email service experiencing issues with sending  Critical Error   \n",
       "2          Unauthorized access to data was attempted  Security Alert   \n",
       "3  nova.osapi_compute.wsgi.server [req-4895c258-b...     HTTP Status   \n",
       "4  nova.osapi_compute.wsgi.server [req-ee8bc8ba-9...     HTTP Status   \n",
       "\n",
       "  complexity  \n",
       "0       bert  \n",
       "1       bert  \n",
       "2       bert  \n",
       "3       bert  \n",
       "4       bert  "
      ]
     },
     "execution_count": 21,
     "metadata": {},
     "output_type": "execute_result"
    }
   ],
   "source": [
    "df.head()"
   ]
  },
  {
   "cell_type": "code",
   "execution_count": 22,
   "id": "413e2fd1-ae07-4375-a445-47ec19fd2000",
   "metadata": {},
   "outputs": [
    {
     "data": {
      "text/plain": [
       "array(['ModernCRM', 'AnalyticsEngine', 'ModernHR', 'BillingSystem',\n",
       "       'ThirdPartyAPI', 'LegacyCRM'], dtype=object)"
      ]
     },
     "execution_count": 22,
     "metadata": {},
     "output_type": "execute_result"
    }
   ],
   "source": [
    "df.source.unique()"
   ]
  },
  {
   "cell_type": "code",
   "execution_count": 23,
   "id": "d7159d20-d871-4806-8f48-32e04d07c740",
   "metadata": {},
   "outputs": [
    {
     "data": {
      "text/plain": [
       "array(['HTTP Status', 'Critical Error', 'Security Alert', 'Error',\n",
       "       'System Notification', 'Resource Usage', 'User Action',\n",
       "       'Workflow Error', 'Deprecation Warning'], dtype=object)"
      ]
     },
     "execution_count": 23,
     "metadata": {},
     "output_type": "execute_result"
    }
   ],
   "source": [
    "df.target_label.unique()"
   ]
  },
  {
   "cell_type": "code",
   "execution_count": 24,
   "id": "86d8a16c-dfa8-4c53-9f49-954f87c9e4e6",
   "metadata": {},
   "outputs": [
    {
     "data": {
      "text/plain": [
       "array(['bert', 'regex', 'llm'], dtype=object)"
      ]
     },
     "execution_count": 24,
     "metadata": {},
     "output_type": "execute_result"
    }
   ],
   "source": [
    "df.complexity.unique()"
   ]
  },
  {
   "cell_type": "code",
   "execution_count": 25,
   "id": "c01bf66d-0f96-483f-87d4-6e41a3108a51",
   "metadata": {},
   "outputs": [],
   "source": [
    "from sentence_transformers import SentenceTransformer\n",
    "from sklearn.cluster import DBSCAN"
   ]
  },
  {
   "cell_type": "code",
   "execution_count": 26,
   "id": "b674a0c6-2c30-43ac-8f17-295e7d4f2660",
   "metadata": {},
   "outputs": [],
   "source": [
    "# loading pre trained model\n",
    "model = SentenceTransformer('all-MiniLM-L6-v2')"
   ]
  },
  {
   "cell_type": "code",
   "execution_count": 27,
   "id": "a6a8a0fc-f662-49d1-a04c-20cd306f1952",
   "metadata": {},
   "outputs": [],
   "source": [
    "# generate embeddings for log messages\n",
    "embeddings = model.encode(df['log_message'].tolist())"
   ]
  },
  {
   "cell_type": "code",
   "execution_count": 28,
   "id": "6e4b2280-bdf5-4057-8e68-80fc801e7cc9",
   "metadata": {},
   "outputs": [],
   "source": [
    "# performing DB scan\n",
    "dbscan = DBSCAN(eps=0.2,min_samples=1,metric='cosine')\n",
    "clusters = dbscan.fit_predict(embeddings)"
   ]
  },
  {
   "cell_type": "code",
   "execution_count": 29,
   "id": "ddcd17c0-861c-4f29-870c-8a9ccb8dce95",
   "metadata": {},
   "outputs": [],
   "source": [
    "df['cluster'] = clusters"
   ]
  },
  {
   "cell_type": "code",
   "execution_count": 30,
   "id": "4377d233-f93b-4a4a-a24e-95a0ffb839aa",
   "metadata": {},
   "outputs": [
    {
     "data": {
      "text/html": [
       "<div>\n",
       "<style scoped>\n",
       "    .dataframe tbody tr th:only-of-type {\n",
       "        vertical-align: middle;\n",
       "    }\n",
       "\n",
       "    .dataframe tbody tr th {\n",
       "        vertical-align: top;\n",
       "    }\n",
       "\n",
       "    .dataframe thead th {\n",
       "        text-align: right;\n",
       "    }\n",
       "</style>\n",
       "<table border=\"1\" class=\"dataframe\">\n",
       "  <thead>\n",
       "    <tr style=\"text-align: right;\">\n",
       "      <th></th>\n",
       "      <th>timestamp</th>\n",
       "      <th>source</th>\n",
       "      <th>log_message</th>\n",
       "      <th>target_label</th>\n",
       "      <th>complexity</th>\n",
       "      <th>cluster</th>\n",
       "    </tr>\n",
       "  </thead>\n",
       "  <tbody>\n",
       "    <tr>\n",
       "      <th>0</th>\n",
       "      <td>2025-06-27 07:20:25</td>\n",
       "      <td>ModernCRM</td>\n",
       "      <td>nova.osapi_compute.wsgi.server [req-b9718cd8-f...</td>\n",
       "      <td>HTTP Status</td>\n",
       "      <td>bert</td>\n",
       "      <td>0</td>\n",
       "    </tr>\n",
       "    <tr>\n",
       "      <th>1</th>\n",
       "      <td>1/14/2025 23:07</td>\n",
       "      <td>ModernCRM</td>\n",
       "      <td>Email service experiencing issues with sending</td>\n",
       "      <td>Critical Error</td>\n",
       "      <td>bert</td>\n",
       "      <td>1</td>\n",
       "    </tr>\n",
       "    <tr>\n",
       "      <th>2</th>\n",
       "      <td>1/17/2025 1:29</td>\n",
       "      <td>AnalyticsEngine</td>\n",
       "      <td>Unauthorized access to data was attempted</td>\n",
       "      <td>Security Alert</td>\n",
       "      <td>bert</td>\n",
       "      <td>2</td>\n",
       "    </tr>\n",
       "    <tr>\n",
       "      <th>3</th>\n",
       "      <td>2025-07-12 00:24:16</td>\n",
       "      <td>ModernHR</td>\n",
       "      <td>nova.osapi_compute.wsgi.server [req-4895c258-b...</td>\n",
       "      <td>HTTP Status</td>\n",
       "      <td>bert</td>\n",
       "      <td>0</td>\n",
       "    </tr>\n",
       "    <tr>\n",
       "      <th>4</th>\n",
       "      <td>2025-06-02 18:25:23</td>\n",
       "      <td>BillingSystem</td>\n",
       "      <td>nova.osapi_compute.wsgi.server [req-ee8bc8ba-9...</td>\n",
       "      <td>HTTP Status</td>\n",
       "      <td>bert</td>\n",
       "      <td>0</td>\n",
       "    </tr>\n",
       "  </tbody>\n",
       "</table>\n",
       "</div>"
      ],
      "text/plain": [
       "             timestamp           source  \\\n",
       "0  2025-06-27 07:20:25        ModernCRM   \n",
       "1      1/14/2025 23:07        ModernCRM   \n",
       "2       1/17/2025 1:29  AnalyticsEngine   \n",
       "3  2025-07-12 00:24:16         ModernHR   \n",
       "4  2025-06-02 18:25:23    BillingSystem   \n",
       "\n",
       "                                         log_message    target_label  \\\n",
       "0  nova.osapi_compute.wsgi.server [req-b9718cd8-f...     HTTP Status   \n",
       "1     Email service experiencing issues with sending  Critical Error   \n",
       "2          Unauthorized access to data was attempted  Security Alert   \n",
       "3  nova.osapi_compute.wsgi.server [req-4895c258-b...     HTTP Status   \n",
       "4  nova.osapi_compute.wsgi.server [req-ee8bc8ba-9...     HTTP Status   \n",
       "\n",
       "  complexity  cluster  \n",
       "0       bert        0  \n",
       "1       bert        1  \n",
       "2       bert        2  \n",
       "3       bert        0  \n",
       "4       bert        0  "
      ]
     },
     "execution_count": 30,
     "metadata": {},
     "output_type": "execute_result"
    }
   ],
   "source": [
    "df.head()"
   ]
  },
  {
   "cell_type": "code",
   "execution_count": 31,
   "id": "70d32fe6-b8d8-40b9-86ed-d76ba8d16079",
   "metadata": {},
   "outputs": [
    {
     "data": {
      "text/html": [
       "<div>\n",
       "<style scoped>\n",
       "    .dataframe tbody tr th:only-of-type {\n",
       "        vertical-align: middle;\n",
       "    }\n",
       "\n",
       "    .dataframe tbody tr th {\n",
       "        vertical-align: top;\n",
       "    }\n",
       "\n",
       "    .dataframe thead th {\n",
       "        text-align: right;\n",
       "    }\n",
       "</style>\n",
       "<table border=\"1\" class=\"dataframe\">\n",
       "  <thead>\n",
       "    <tr style=\"text-align: right;\">\n",
       "      <th></th>\n",
       "      <th>timestamp</th>\n",
       "      <th>source</th>\n",
       "      <th>log_message</th>\n",
       "      <th>target_label</th>\n",
       "      <th>complexity</th>\n",
       "      <th>cluster</th>\n",
       "    </tr>\n",
       "  </thead>\n",
       "  <tbody>\n",
       "    <tr>\n",
       "      <th>1114</th>\n",
       "      <td>5/12/2025 5:23</td>\n",
       "      <td>BillingSystem</td>\n",
       "      <td>Detected a data transfer attempt with insuffic...</td>\n",
       "      <td>Security Alert</td>\n",
       "      <td>bert</td>\n",
       "      <td>97</td>\n",
       "    </tr>\n",
       "    <tr>\n",
       "      <th>1175</th>\n",
       "      <td>4/21/2025 2:17</td>\n",
       "      <td>AnalyticsEngine</td>\n",
       "      <td>Unapproved data transfer attempt was detected</td>\n",
       "      <td>Security Alert</td>\n",
       "      <td>bert</td>\n",
       "      <td>97</td>\n",
       "    </tr>\n",
       "    <tr>\n",
       "      <th>1740</th>\n",
       "      <td>10/7/2025 8:13</td>\n",
       "      <td>ModernHR</td>\n",
       "      <td>Unauthenticated data transfer attempt was dete...</td>\n",
       "      <td>Security Alert</td>\n",
       "      <td>bert</td>\n",
       "      <td>97</td>\n",
       "    </tr>\n",
       "    <tr>\n",
       "      <th>1979</th>\n",
       "      <td>9/28/2025 14:51</td>\n",
       "      <td>BillingSystem</td>\n",
       "      <td>Detected an unauthorized attempt to transfer data</td>\n",
       "      <td>Security Alert</td>\n",
       "      <td>bert</td>\n",
       "      <td>97</td>\n",
       "    </tr>\n",
       "  </tbody>\n",
       "</table>\n",
       "</div>"
      ],
      "text/plain": [
       "            timestamp           source  \\\n",
       "1114   5/12/2025 5:23    BillingSystem   \n",
       "1175   4/21/2025 2:17  AnalyticsEngine   \n",
       "1740   10/7/2025 8:13         ModernHR   \n",
       "1979  9/28/2025 14:51    BillingSystem   \n",
       "\n",
       "                                            log_message    target_label  \\\n",
       "1114  Detected a data transfer attempt with insuffic...  Security Alert   \n",
       "1175      Unapproved data transfer attempt was detected  Security Alert   \n",
       "1740  Unauthenticated data transfer attempt was dete...  Security Alert   \n",
       "1979  Detected an unauthorized attempt to transfer data  Security Alert   \n",
       "\n",
       "     complexity  cluster  \n",
       "1114       bert       97  \n",
       "1175       bert       97  \n",
       "1740       bert       97  \n",
       "1979       bert       97  "
      ]
     },
     "execution_count": 31,
     "metadata": {},
     "output_type": "execute_result"
    }
   ],
   "source": [
    "df[df.cluster==97].head()"
   ]
  },
  {
   "cell_type": "code",
   "execution_count": 32,
   "id": "3440296e-1cbf-426a-9b50-f983ac10b3bd",
   "metadata": {},
   "outputs": [
    {
     "data": {
      "text/plain": [
       "array([  0,   1,   2,   3,   4,   5,   6,   7,   8,   9,  10,  11,  12,\n",
       "        13,  14,  15,  16,  17,  18,  19,  20,  21,  22,  23,  24,  25,\n",
       "        26,  27,  28,  29,  30,  31,  32,  33,  34,  35,  36,  37,  38,\n",
       "        39,  40,  41,  42,  43,  44,  45,  46,  47,  48,  49,  50,  51,\n",
       "        52,  53,  54,  55,  56,  57,  58,  59,  60,  61,  62,  63,  64,\n",
       "        65,  66,  67,  68,  69,  70,  71,  72,  73,  74,  75,  76,  77,\n",
       "        78,  79,  80,  81,  82,  83,  84,  85,  86,  87,  88,  89,  90,\n",
       "        91,  92,  93,  94,  95,  96,  97,  98,  99, 100, 101, 102, 103,\n",
       "       104, 105, 106, 107, 108, 109, 110, 111, 112, 113, 114, 115, 116,\n",
       "       117, 118, 119, 120, 121, 122, 123, 124, 125, 126, 127, 128, 129,\n",
       "       130, 131, 132, 133, 134, 135])"
      ]
     },
     "execution_count": 32,
     "metadata": {},
     "output_type": "execute_result"
    }
   ],
   "source": [
    "cluster_counts = df['cluster'].unique()\n",
    "cluster_counts"
   ]
  },
  {
   "cell_type": "code",
   "execution_count": 33,
   "id": "ce2bf5b1-182f-4eae-96f5-debde4b27ea6",
   "metadata": {},
   "outputs": [
    {
     "data": {
      "text/plain": [
       "cluster\n",
       "0      1017\n",
       "5       147\n",
       "11      100\n",
       "13       86\n",
       "7        60\n",
       "       ... \n",
       "131       1\n",
       "132       1\n",
       "133       1\n",
       "134       1\n",
       "135       1\n",
       "Name: count, Length: 136, dtype: int64"
      ]
     },
     "execution_count": 33,
     "metadata": {},
     "output_type": "execute_result"
    }
   ],
   "source": [
    "cluster_counts = df['cluster'].value_counts()\n",
    "cluster_counts"
   ]
  },
  {
   "cell_type": "code",
   "execution_count": 34,
   "id": "9cc5261e-3384-4c8f-b8e4-6fd3264cd7fc",
   "metadata": {},
   "outputs": [
    {
     "data": {
      "text/plain": [
       "Index([ 0,  5, 11, 13,  7,  8, 21,  3,  4, 17,  6, 32, 16, 20,  9,  1, 10, 34,\n",
       "       53, 14, 52, 18, 42, 25, 59, 26],\n",
       "      dtype='int64', name='cluster')"
      ]
     },
     "execution_count": 34,
     "metadata": {},
     "output_type": "execute_result"
    }
   ],
   "source": [
    "large_clusters = cluster_counts[cluster_counts > 10].index\n",
    "large_clusters"
   ]
  },
  {
   "cell_type": "code",
   "execution_count": 35,
   "id": "60f43aa1-4e14-4013-baf6-f6fbd229a220",
   "metadata": {},
   "outputs": [
    {
     "name": "stdout",
     "output_type": "stream",
     "text": [
      "Cluster 0:\n",
      "nova.osapi_compute.wsgi.server [req-b9718cd8-f6...\n",
      "nova.osapi_compute.wsgi.server [req-4895c258-b2...\n",
      "nova.osapi_compute.wsgi.server [req-ee8bc8ba-92...\n",
      "nova.osapi_compute.wsgi.server [req-f0bffbc3-5a...\n",
      "nova.osapi_compute.wsgi.server [req-2bf7cfee-a2...\n",
      "\n",
      "Cluster 5:\n",
      "nova.compute.claims [req-a07ac654-8e81-416d-bfb...\n",
      "nova.compute.claims [req-d6986b54-3735-4a42-907...\n",
      "nova.compute.claims [req-72b4858f-049e-49e1-b31...\n",
      "nova.compute.claims [req-5c8f52bd-8e3c-41f0-95a...\n",
      "nova.compute.claims [req-d38f479d-9bb9-4276-968...\n",
      "\n",
      "Cluster 11:\n",
      "User User685 logged out.\n",
      " User User395 logged in.\n",
      " User User225 logged in.\n",
      "User User494 logged out.\n",
      " User User900 logged in.\n",
      "\n",
      "Cluster 13:\n",
      "Backup started at 2025-05-14 07:06:55.\n",
      "Backup started at 2025-02-15 20:00:19.\n",
      "  Backup ended at 2025-08-08 13:06:23.\n",
      "Backup started at 2025-11-14 08:27:43.\n",
      "Backup started at 2025-12-09 10:19:11.\n",
      "\n",
      "Cluster 7:\n",
      "Multiple bad login attempts detected on user 85...\n",
      "Multiple login failures occurred on user 9052 a...\n",
      "  User 7153 made multiple incorrect login attempts\n",
      "  User 8300 made multiple incorrect login attempts\n",
      "Multiple login failures were detected for user ...\n",
      "\n",
      "Cluster 8:\n",
      "Backup completed successfully.\n",
      "Backup completed successfully.\n",
      "Backup completed successfully.\n",
      "Backup completed successfully.\n",
      "Backup completed successfully.\n",
      "\n",
      "Cluster 21:\n",
      "System updated to version 3.9.1.\n",
      "System updated to version 5.5.4.\n",
      "System updated to version 4.7.4.\n",
      "System updated to version 3.7.7.\n",
      "System updated to version 2.6.2.\n",
      "\n",
      "Cluster 3:\n",
      "         Shard 6 replication task ended in failure\n",
      "Data replication task for shard 14 did not comp...\n",
      "         Data replication task failed for shard 17\n",
      "            Replication of data to shard 14 failed\n",
      "Data replication task for shard 6 did not complete\n",
      "\n",
      "Cluster 4:\n",
      "File data_6169.csv uploaded successfully by use...\n",
      "File data_3847.csv uploaded successfully by use...\n",
      "File data_7366.csv uploaded successfully by use...\n",
      "File data_1206.csv uploaded successfully by use...\n",
      "File data_1503.csv uploaded successfully by use...\n",
      "\n",
      "Cluster 17:\n",
      "Denied access attempt on restricted account Acc...\n",
      "Unauthorized login attempt on protected account...\n",
      "   Account Account9437 blocked due to failed login\n",
      "Account Account7999 access denied due to login ...\n",
      "Invalid login attempt made on secured account A...\n",
      "\n",
      "Cluster 6:\n",
      "   Critical system unit error: unit ID Component55\n",
      "System component malfunction: component ID Comp...\n",
      "Critical system element is down: element ID Com...\n",
      "Essential system part malfunction: part ID Comp...\n",
      "Failure occurred in critical system component: ...\n",
      "\n",
      "Cluster 32:\n",
      "Disk cleanup completed successfully.\n",
      "Disk cleanup completed successfully.\n",
      "Disk cleanup completed successfully.\n",
      "Disk cleanup completed successfully.\n",
      "Disk cleanup completed successfully.\n",
      "\n",
      "Cluster 16:\n",
      "System reboot initiated by user User243.\n",
      "System reboot initiated by user User471.\n",
      "System reboot initiated by user User216.\n",
      "System reboot initiated by user User639.\n",
      "System reboot initiated by user User819.\n",
      "\n",
      "Cluster 20:\n",
      "   User 7662 tried to bypass API security measures\n",
      "User 2367 failed to provide valid API access cr...\n",
      "        User 3569 made an unauthorized API request\n",
      "Unauthorized user 2968 tried to access restrict...\n",
      "User 2186 attempted to access API without prope...\n",
      "\n",
      "Cluster 9:\n",
      "Account with ID 5351 created by User634.\n",
      "Account with ID 7813 created by User373.\n",
      "Account with ID 9827 created by User965.\n",
      "Account with ID 2520 created by User546.\n",
      "Account with ID 2300 created by User964.\n",
      "\n",
      "Cluster 1:\n",
      "  Email service experiencing issues with sending\n",
      "        Email server encountered a sending fault\n",
      "      Mail service encountered a delivery glitch\n",
      "Service disruption caused by email sending error\n",
      "       Email system had a problem sending emails\n",
      "\n",
      "Cluster 10:\n",
      "nova.compute.resource_tracker [req-addc1839-2ed...\n",
      "nova.compute.resource_tracker [req-addc1839-2ed...\n",
      "nova.compute.resource_tracker [req-addc1839-2ed...\n",
      "nova.compute.resource_tracker [req-addc1839-2ed...\n",
      "nova.compute.resource_tracker [req-addc1839-2ed...\n",
      "\n",
      "Cluster 34:\n",
      "Abnormal behavior found on server 10, possible ...\n",
      "   Security alert: suspicious activity on server 1\n",
      "Anomalous activity identified on server 23, sec...\n",
      "Server 27 experienced potential security incide...\n",
      "Server 36 experienced potential security incide...\n",
      "\n",
      "Cluster 53:\n",
      " Module X experienced an invalid data format issue\n",
      "        Input format mismatch occurred in module X\n",
      "Module X reported an error in input format vali...\n",
      "Module X failed to process input due to formatt...\n",
      "Input data format in module X was invalid or co...\n",
      "\n",
      "Cluster 14:\n",
      "   Detection of multiple disk faults in RAID setup\n",
      "  RAID array suffered multiple hard drive failures\n",
      "      RAID array experienced multiple disk crashes\n",
      "Multiple hard drive issues in RAID configuratio...\n",
      "Identification of multiple faulty disks in RAID...\n",
      "\n",
      "Cluster 52:\n",
      "Service health check was not successful because...\n",
      "Invalid SSL certificate resulted in a failed se...\n",
      "Service health check failure was due to an inva...\n",
      "An issue with the SSL certificate caused the se...\n",
      "Service health check failure was caused by an e...\n",
      "\n",
      "Cluster 18:\n",
      "Boot process terminated unexpectedly due to ker...\n",
      "System encountered kernel panic during initiali...\n",
      "    Boot process was stopped by kernel malfunction\n",
      "System encountered kernel failure during bootup...\n",
      "          Boot sequence failed due to kernel panic\n",
      "\n",
      "Cluster 42:\n",
      "User 5127 has escalated admin privileges withou...\n",
      "            User 9745 has escalated to admin level\n",
      "     User 8483 escalated privileges to admin level\n",
      "            User 1987 has escalated to admin level\n",
      "     User 8395 escalated privileges to admin level\n",
      "\n",
      "Cluster 25:\n",
      "         System configuration is no longer valid\n",
      "Configuration is corrupted throughout the system\n",
      "     Cross-system configuration failure occurred\n",
      "     System configuration is experiencing errors\n",
      "        Configuration malfunction is system-wide\n",
      "\n",
      "Cluster 59:\n",
      "Potential security threat: Admin privilege esca...\n",
      "    Admin privilege escalation alert for user 2893\n",
      "    Admin privilege escalation alert for user 8532\n",
      "Potential security threat: Admin privilege esca...\n",
      "Warning: Potential admin privilege escalation f...\n",
      "\n",
      "Cluster 26:\n",
      "        Privilege elevation detected for user 5038\n",
      "Elevation of admin privileges detected for user...\n",
      "Elevation of admin privileges detected for user...\n",
      "User 6069 has been granted elevated admin privi...\n",
      "   Admin privilege elevation warning for user 7574\n",
      "\n"
     ]
    }
   ],
   "source": [
    "for cluster in large_clusters:\n",
    "    print(f\"Cluster {cluster}:\") \n",
    "    print(df[df['cluster'] == cluster]['log_message'].head(5).to_string(index=False))\n",
    "    print()"
   ]
  },
  {
   "cell_type": "code",
   "execution_count": 45,
   "id": "b1c770a6-3c61-452f-8708-03fcb1dfaf6e",
   "metadata": {},
   "outputs": [],
   "source": [
    "# identifying most commonly appearing pattern through regex  \n",
    "def classify_with_regex(Log_message) :\n",
    "    regex_patterns = {\n",
    "r\"User User\\d+ logged (in|out). \": \"User Action\",\n",
    "r\"Backup (started|ended) at .* \": \"System Notification\",\n",
    "r\"Backup completed successfully. \": \"System Notification\",\n",
    "r\"System updated to version .* \": \"System Notification\",\n",
    "r\"File . * uploaded successfully by user .* \": \"System Notification\",\n",
    "r\"Disk cleanup completed successfully. \": \"System Notification\",\n",
    "r\"System reboot initiated by user . * \": \"System Notification\",\n",
    "r\"Account with ID .* created by .* \": \"User Action\"\n",
    "}  \n",
    "    for pattern, label in regex_patterns.items():\n",
    "        if re.search(pattern, Log_message):\n",
    "            return label\n",
    "    return \"other\"\n"
   ]
  },
  {
   "cell_type": "code",
   "execution_count": null,
   "id": "2438a2fc-6375-496b-8b29-132f9ef868de",
   "metadata": {},
   "outputs": [],
   "source": []
  },
  {
   "cell_type": "code",
   "execution_count": null,
   "id": "0bcb5290-f5e2-4f18-950f-1bf4e3aa4476",
   "metadata": {},
   "outputs": [],
   "source": [
    "\n"
   ]
  }
 ],
 "metadata": {
  "kernelspec": {
   "display_name": "Python 3 (ipykernel)",
   "language": "python",
   "name": "python3"
  },
  "language_info": {
   "codemirror_mode": {
    "name": "ipython",
    "version": 3
   },
   "file_extension": ".py",
   "mimetype": "text/x-python",
   "name": "python",
   "nbconvert_exporter": "python",
   "pygments_lexer": "ipython3",
   "version": "3.12.3"
  }
 },
 "nbformat": 4,
 "nbformat_minor": 5
}
